{
 "cells": [
  {
   "cell_type": "code",
   "execution_count": 1,
   "metadata": {},
   "outputs": [],
   "source": [
    "import torch\n",
    "from torch.nn import NLLLoss\n",
    "import torch.optim as optim\n",
    "import torchvision.transforms as transforms\n",
    "import torchvision.datasets as datasets\n",
    "import torch.backends.cudnn as cudnn\n",
    "\n",
    "%matplotlib inline\n",
    "import pylab as pl\n",
    "from IPython import display\n",
    "import time\n",
    "\n",
    "import sys\n",
    "sys.path.append('../')\n",
    "from helpful_files.networks import *\n",
    "from helpful_files.training import *\n",
    "from helpful_files.testing import *"
   ]
  },
  {
   "cell_type": "code",
   "execution_count": 2,
   "metadata": {},
   "outputs": [],
   "source": [
    "# Set Important Values\n",
    "\n",
    "# General settings\n",
    "datapath = '/data/dww78/mini_inat_shrunk/'                     # The location of your train, test, repr, and query folders. Make sure it ends in '/'!\n",
    "model = 'orig-proto-Train-100.pth'  # What model do you wish to evaluate, and where is it saved?\n",
    "gpu = 2                             # What gpu do you wish to run on?\n",
    "workers = 1                         # Number of cpu worker processes to use for data loading\n",
    "verbosity = 10                      # How many categories in between status updates \n",
    "ensemble = 4                        # How many models to evaluate in parallel\n",
    "k = 1                               # Evaluate top-k accuracy. Typically 1 or 5. \n",
    "torch.cuda.set_device(gpu) \n",
    "cudnn.benchmark = True\n",
    "\n",
    "# Model characteristics\n",
    "covariance_pooling = False           # Did your model use covariance pooling?\n",
    "localizing = False                   # Did your model use localization?\n",
    "fewshot_local = False                # If you used localization: few-shot, or parametric? Few-shot if True, param if False\n",
    "network_width = 64                  # Number of channels at every layer of the network\n",
    "trainshot = 5 \n",
    "testshot = 15 \n",
    "# Batch construction\n",
    "bsize = 64                          # Batch size\n",
    "boxes_available = 10                # Percentage of images with bounding boxes available (few-shot localization models only)\n",
    "include_masks = (localizing         # Include or ignore the bounding box annotations?\n",
    "                 and fewshot_local)\n",
    "n_trials = (10                      # Number of trials (few-shot localization models only)\n",
    "            if include_masks else 1)\n",
    "\n",
    "augmentation_flipping = False\n",
    "folding = False\n",
    "# Calculate embedding size based on model setup\n",
    "d = (network_width if not \n",
    "     covariance_pooling else\n",
    "     network_width**2)\n",
    "if localizing and not covariance_pooling:\n",
    "    d = network_width*2\n",
    "assert n_trials == 1 or include_masks, (\"Repeated trials will yield repeated identical results under this configuration.\"+\n",
    "                                        \"Please set ntrials to 1 or use a few-shot localizer.\")"
   ]
  },
  {
   "cell_type": "code",
   "execution_count": 3,
   "metadata": {},
   "outputs": [
    {
     "name": "stdout",
     "output_type": "stream",
     "text": [
      "Data loaded!\n"
     ]
    }
   ],
   "source": [
    "# Load Testing Data\n",
    "\n",
    "d_boxes = torch.load(datapath + 'box_coords.pth')\n",
    "\n",
    "transform = transforms.Compose([\n",
    "    transforms.ToTensor(),\n",
    "    transforms.Normalize(mean=[0.4905, 0.4961, 0.4330],std=[0.1737, 0.1713, 0.1779])\n",
    "    ])\n",
    "\n",
    "if folding:\n",
    "    # Batch folding has no reference/query distinction\n",
    "    shots = [trainshot+testshot]\n",
    "else:\n",
    "    # Standard setup\n",
    "    shots = [trainshot, testshot]\n",
    "if localizing and fewshot_local and not folding:\n",
    "    # Unfolded prototype localizers need another set of reference images to inform foreground/background predictions\n",
    "    shots = [trainshot, trainshot, testshot-trainshot]\n",
    "    \n",
    "\n",
    "test_dataset = datasets.ImageFolder(\n",
    "    datapath+'test', \n",
    "    loader = lambda x: load_transform(x, d_boxes, transform, include_masks))\n",
    "way = 5\n",
    "test_loader = torch.utils.data.DataLoader(\n",
    "    test_dataset, \n",
    "    batch_sampler = ProtoSampler(test_dataset, way, shots),\n",
    "    num_workers = workers,\n",
    "    pin_memory = True)\n",
    "\n",
    "# repr_dataset = datasets.ImageFolder(\n",
    "#     datapath+'repr', \n",
    "#     loader = lambda x: load_transform(x, d_boxes, transform, include_masks))\n",
    "# query_dataset = datasets.ImageFolder(\n",
    "#     datapath+'query',\n",
    "#     loader = lambda x: load_transform(x, d_boxes, transform, include_masks))\n",
    "# repr_loader = torch.utils.data.DataLoader(\n",
    "#     repr_dataset, \n",
    "#     batch_sampler = OrderedSampler(repr_dataset, bsize),\n",
    "#     num_workers = workers,\n",
    "#     pin_memory = True)\n",
    "# query_loader = torch.utils.data.DataLoader(\n",
    "#     query_dataset,\n",
    "#     batch_sampler = OrderedSampler(query_dataset, bsize),\n",
    "#     num_workers = workers,\n",
    "#     pin_memory = True)\n",
    "\n",
    "\n",
    "# Determine number of images with bounding boxes per-class\n",
    "catsizes = torch.LongTensor(np.array([t[1] for t in test_dataset.imgs])).bincount().float()\n",
    "ngiv = (catsizes*boxes_available//100)\n",
    "for i in range(ngiv.size(0)):\n",
    "    if ngiv[i] == 0:\n",
    "        ngiv[i] = 1\n",
    "ngiv = ngiv.long().tolist()\n",
    "\n",
    "print('Data loaded!')"
   ]
  },
  {
   "cell_type": "code",
   "execution_count": 4,
   "metadata": {},
   "outputs": [
    {
     "name": "stdout",
     "output_type": "stream",
     "text": [
      "Ready to go!\n"
     ]
    }
   ],
   "source": [
    "# Make Models\n",
    "models = [Network(network_width, folding, covariance_pooling, \n",
    "                  localizing, fewshot_local, shots).cuda() \n",
    "          for i in range(ensemble)]\n",
    "# expander = avgpool()\n",
    "# if localizing:\n",
    "#     if fewshot_local:\n",
    "#         expander = fsCL if covariance_pooling else fsL\n",
    "#     else:\n",
    "#         expander = pCL() if covariance_pooling else pL()\n",
    "# elif covariance_pooling:\n",
    "#     expander = covapool\n",
    "# expanders = [expander for _ in range(ensemble)]\n",
    "\n",
    "# Load saved parameters\n",
    "model_state = torch.load(model)\n",
    "for i in range(ensemble):\n",
    "    models[i].encode.load_state_dict(model_state[i])\n",
    "    models[i].encode.eval()\n",
    "    # Zero out the bias on the final layer, since it doesn't do anything\n",
    "    models[i].encode.process[-1].layers[-1].bias.data.zero_()\n",
    "\n",
    "# Load additional parameters for parametric localizer models\n",
    "# if localizing and not fewshot_local:\n",
    "#     fbcentroids = torch.load(model[:model.rfind('.')]+'_localizers'+model[model.rfind('.'):])\n",
    "#     for i in range(ensemble):\n",
    "#         expanders[i].centroids.data = fbcentroids[i]\n",
    "#         expanders[i].cuda()\n",
    "\n",
    "print(\"Ready to go!\")"
   ]
  },
  {
   "cell_type": "code",
   "execution_count": 5,
   "metadata": {},
   "outputs": [],
   "source": [
    "#                                                    EVALUATE"
   ]
  },
  {
   "cell_type": "code",
   "execution_count": 14,
   "metadata": {},
   "outputs": [],
   "source": [
    "def episodic_eval(test_loader, models, way, shots, verbosity):\n",
    "    for model in models:\n",
    "        model.eval()\n",
    "    nqueries = shots[-1]\n",
    "    ensemble = len(models)\n",
    "    targ = torch.LongTensor([i//nqueries for i in range(nqueries*way)]).cuda()\n",
    "    acctracker = [[] for i in range(ensemble)]\n",
    "    print(\"Training images covered this round:\")\n",
    "    for i, ((inp, masks), _) in enumerate(test_loader):\n",
    "        inp = inp.cuda()\n",
    "        masks = masks.cuda()\n",
    "        for j in range(ensemble):\n",
    "            # Predict, step\n",
    "            out = models[j](inp, masks)\n",
    "            _,bins = torch.max(out,1)\n",
    "            acc = torch.sum(torch.eq(bins,targ)).item()/nqueries/way\n",
    "            acctracker[j].append(acc)\n",
    "        if i%verbosity == 0:\n",
    "            print('%d of approx. 192270'%(i*way*sum(shots)))\n",
    "    all_acc = []\n",
    "    for i in acctracker:\n",
    "        for j in i:\n",
    "            all_acc.append(j)\n",
    "    mean_acc = sum(all_acc)/len(all_acc)\n",
    "    confs = 1.96*np.sqrt(np.var(all_acc)/len(all_acc))\n",
    "    return mean_acc, confs\n",
    "#     return [L/(i+1) for L in acctracker]"
   ]
  },
  {
   "cell_type": "code",
   "execution_count": 15,
   "metadata": {},
   "outputs": [
    {
     "name": "stdout",
     "output_type": "stream",
     "text": [
      "Training images covered this round:\n",
      "0 of approx. 192270\n",
      "1000 of approx. 192270\n",
      "2000 of approx. 192270\n",
      "3000 of approx. 192270\n",
      "4000 of approx. 192270\n",
      "5000 of approx. 192270\n",
      "6000 of approx. 192270\n",
      "7000 of approx. 192270\n",
      "8000 of approx. 192270\n",
      "9000 of approx. 192270\n",
      "10000 of approx. 192270\n",
      "11000 of approx. 192270\n",
      "12000 of approx. 192270\n",
      "13000 of approx. 192270\n",
      "14000 of approx. 192270\n",
      "15000 of approx. 192270\n",
      "16000 of approx. 192270\n",
      "17000 of approx. 192270\n",
      "18000 of approx. 192270\n",
      "19000 of approx. 192270\n",
      "20000 of approx. 192270\n",
      "21000 of approx. 192270\n",
      "22000 of approx. 192270\n",
      "23000 of approx. 192270\n",
      "24000 of approx. 192270\n",
      "25000 of approx. 192270\n",
      "26000 of approx. 192270\n",
      "27000 of approx. 192270\n",
      "28000 of approx. 192270\n",
      "29000 of approx. 192270\n",
      "30000 of approx. 192270\n",
      "31000 of approx. 192270\n",
      "32000 of approx. 192270\n",
      "33000 of approx. 192270\n",
      "34000 of approx. 192270\n",
      "35000 of approx. 192270\n",
      "36000 of approx. 192270\n",
      "37000 of approx. 192270\n",
      "38000 of approx. 192270\n",
      "39000 of approx. 192270\n",
      "40000 of approx. 192270\n",
      "41000 of approx. 192270\n",
      "42000 of approx. 192270\n",
      "43000 of approx. 192270\n",
      "44000 of approx. 192270\n",
      "68.63650075414775\n",
      "0.4344723243937689\n"
     ]
    }
   ],
   "source": [
    "mean_acc, confs = episodic_eval(test_loader, models, way, shots, verbosity)\n",
    "print(mean_acc*100)\n",
    "print(confs*100)\n",
    "# accs = sum(acclist)/n_trials/ensemble\n",
    "# confs = 1.96*np.sqrt(np.var(acclist)/n_trials/ensemble)"
   ]
  },
  {
   "cell_type": "code",
   "execution_count": 8,
   "metadata": {},
   "outputs": [],
   "source": [
    "# print(acclist)\n",
    "# print(accs)\n",
    "# print(confs)"
   ]
  },
  {
   "cell_type": "code",
   "execution_count": 9,
   "metadata": {},
   "outputs": [],
   "source": [
    "# acclist = []\n",
    "# pcacclist = []\n",
    "# alldispacc = np.zeros(way)\n",
    "# for r in range(n_trials):\n",
    "#     # Accumulate foreground/background prototypes, if using\n",
    "#     fbcentroids = (accumulateFB(models, repr_loader, way, network_width, ngiv, bsize)\n",
    "#                    if include_masks else \n",
    "#                    [None]*ensemble)\n",
    "#     # Accumulate category prototypes\n",
    "#     centroids, counts = accumulate(models, repr_loader, expanders, \n",
    "#                                    fbcentroids, way, d)\n",
    "#     # Score the models\n",
    "#     allacc, dispacc, perclassacc = score(k, centroids, fbcentroids, models, \n",
    "#                                          query_loader, expanders, way)\n",
    "#     # Record statistics\n",
    "#     acclist = acclist+allacc\n",
    "#     pcacclist = pcacclist+list(perclassacc)\n",
    "#     alldispacc += dispacc\n",
    "\n",
    "# # Aggregate collected statistics\n",
    "# accs = sum(acclist)/n_trials/ensemble\n",
    "# pcaccs = sum(pcacclist)/n_trials/ensemble\n",
    "# alldispacc = alldispacc/n_trials\n",
    "# confs = 1.96*np.sqrt(np.var(acclist)/n_trials/ensemble)\n",
    "# pcconfs = 1.96*np.sqrt(np.var(pcacclist)/n_trials/ensemble)\n",
    "\n",
    "# # Report\n",
    "# print(\"Accuracies and 95% confidence intervals\")\n",
    "# print(\"Mean accuracy: \\t\\t%.2f \\t+/- %.2f\" % (accs*100, confs*100))\n",
    "# print(\"Per-class accuracy: \\t%.f \\t+/- %.2f\" % (pcaccs*100, pcconfs*100))\n",
    "# logcounts = [np.log10(c) for c in counts]\n",
    "# pl.figure()\n",
    "# pl.axhline(0,color='k')\n",
    "# pl.scatter(counts, dispacc*100, s=4)\n",
    "# z = np.polyfit(logcounts, np.array(dispacc)*100, 1)\n",
    "# p = np.poly1d(z)\n",
    "# pl.plot([min(counts),max(counts)], [p(min(logcounts)),p(max(logcounts))], \"r--\")\n",
    "# pl.ylim([0,100])\n",
    "# pl.xlabel('# Reference Images')\n",
    "# pl.ylabel('Percentage Points')\n",
    "# pl.xscale('log')\n",
    "# pl.title('Per-Class Top-%d Accuracy' % k)\n",
    "# pl.show()"
   ]
  },
  {
   "cell_type": "code",
   "execution_count": 10,
   "metadata": {},
   "outputs": [],
   "source": [
    "# Shut down the notebook"
   ]
  },
  {
   "cell_type": "code",
   "execution_count": 11,
   "metadata": {},
   "outputs": [
    {
     "data": {
      "application/javascript": [
       "// Jupyter.notebook.session.delete();\n"
      ],
      "text/plain": [
       "<IPython.core.display.Javascript object>"
      ]
     },
     "metadata": {},
     "output_type": "display_data"
    }
   ],
   "source": [
    "%%javascript\n",
    "// Jupyter.notebook.session.delete();"
   ]
  }
 ],
 "metadata": {
  "kernelspec": {
   "display_name": "fewshot",
   "language": "python",
   "name": "fewshot"
  },
  "language_info": {
   "codemirror_mode": {
    "name": "ipython",
    "version": 3
   },
   "file_extension": ".py",
   "mimetype": "text/x-python",
   "name": "python",
   "nbconvert_exporter": "python",
   "pygments_lexer": "ipython3",
   "version": "3.8.2"
  }
 },
 "nbformat": 4,
 "nbformat_minor": 4
}
