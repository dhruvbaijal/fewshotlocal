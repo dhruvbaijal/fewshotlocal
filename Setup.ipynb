{
 "cells": [
  {
   "cell_type": "code",
   "execution_count": 1,
   "metadata": {},
   "outputs": [],
   "source": [
    "import os\n",
    "import json\n",
    "from torch import load, save\n",
    "from numpy import sort\n",
    "from random import shuffle\n",
    "from PIL import Image\n",
    "from matplotlib import pylab as pl\n",
    "%matplotlib inline"
   ]
  },
  {
   "cell_type": "code",
   "execution_count": 2,
   "metadata": {},
   "outputs": [],
   "source": [
    "# Set user-defined parameters\n",
    "\n",
    "inatpath = '/data/inat/'            # The location of your downloaded 'train_val_images' folder. Make sure it ends in '/'!\n",
    "annopath = '/data/inat/'            # The location of your downloaded 'train_2017_bboxes.json' file. Make sure it ends in '/'!\n",
    "datapath = '/data/pm484/'            # Wherever you want your new dataset to appear. Make sure it ends in '/'!\n",
    "catsize_min = 50           # The smallest category allowed in our data set\n",
    "catsize_max = 1000         # The largest category allowed in our data set\n",
    "random_assign = False      # Split categories randomly over the representation and evaluation sets, \n",
    "                           # or use the splits from the paper?\n",
    "if not random_assign:\n",
    "    assert catsize_min==50 and catsize_max==1000, 'The provided splits work only for category sizes between 50 and 1000.'"
   ]
  },
  {
   "cell_type": "code",
   "execution_count": 3,
   "metadata": {},
   "outputs": [
    {
     "name": "stdout",
     "output_type": "stream",
     "text": [
      "Built annotation dictionaries\n"
     ]
    }
   ],
   "source": [
    "# Compile bounding box annotations for each image id\n",
    "\n",
    "with open(annopath+'train_2017_bboxes.json') as f:\n",
    "    allinfo = json.load(f)\n",
    "annolist = allinfo['annotations']\n",
    "\n",
    "annodict = dict() # im_id to list of box_ids\n",
    "boxdict = dict() # box_id to box coords\n",
    "catdict = dict() # dict of numerical category codes / labels to corresponding list of image ids\n",
    "for d in annolist:\n",
    "    im = d['image_id']\n",
    "    boxid = d['id']\n",
    "    cat = d['category_id']\n",
    "    \n",
    "    # Add box_id to image entry\n",
    "    if im in annodict:\n",
    "        annodict[im].append(boxid)\n",
    "    else:\n",
    "        annodict[im] = [boxid]\n",
    "        \n",
    "    # Add mapping from box_id to box\n",
    "    boxdict[boxid] = d['bbox']\n",
    "    \n",
    "    # Add image to category set\n",
    "    if cat in catdict:\n",
    "        catdict[cat].add(im)\n",
    "    else:\n",
    "        catdict[cat] = set([im])\n",
    "    \n",
    "print(\"Built annotation dictionaries\")"
   ]
  },
  {
   "cell_type": "code",
   "execution_count": 4,
   "metadata": {},
   "outputs": [
    {
     "name": "stdout",
     "output_type": "stream",
     "text": [
      "Built path dictionary\n"
     ]
    }
   ],
   "source": [
    "# assemble im_id -> filepath dictionary\n",
    "namelist = allinfo['images']\n",
    "keys = []\n",
    "vals = []\n",
    "for d in namelist:\n",
    "    keys.append(d['id'])\n",
    "    vals.append(inatpath+d['file_name'])\n",
    "pather = dict(zip(keys,vals))\n",
    "\n",
    "print(\"Built path dictionary\")"
   ]
  },
  {
   "cell_type": "code",
   "execution_count": 5,
   "metadata": {},
   "outputs": [
    {
     "name": "stdout",
     "output_type": "stream",
     "text": [
      "Detected 1135 categories of the desired size\n"
     ]
    },
    {
     "data": {
      "image/png": "[encoded data removed]",
      "text/plain": [
       "<Figure size 432x288 with 1 Axes>"
      ]
     },
     "metadata": {
      "needs_background": "light"
     },
     "output_type": "display_data"
    }
   ],
   "source": [
    "# Visualize the categories that meet the given size requirements\n",
    "\n",
    "catsizes = sort([(len(catdict[c])) for c in catdict if len(catdict[c]) >= catsize_min and len(catdict[c]) <= catsize_max])\n",
    "print('Detected %d categories of the desired size' % len(catsizes))\n",
    "pl.figure()\n",
    "pl.plot(catsizes[::-1])\n",
    "pl.title('Category Sizes (Sorted)')\n",
    "pl.ylabel('# Images')\n",
    "pl.xlabel('Sorted Categories')\n",
    "pl.show()"
   ]
  },
  {
   "cell_type": "code",
   "execution_count": 6,
   "metadata": {},
   "outputs": [
    {
     "name": "stdout",
     "output_type": "stream",
     "text": [
      "Initial size: 2854 categories\n",
      "Final size: 1135 categories\n",
      "\n",
      "Supercategory distributions:\n",
      "Insecta: 332\n",
      "Animalia: 22\n",
      "Aves: 478\n",
      "Reptilia: 124\n",
      "Amphibia: 50\n",
      "Mammalia: 67\n",
      "Actinopterygii: 7\n",
      "Arachnida: 22\n",
      "Mollusca: 33\n"
     ]
    }
   ],
   "source": [
    "# Pare down the category dictionary to the desired size\n",
    "\n",
    "print('Initial size: %d categories' % len(list(catdict.keys())))\n",
    "clist = list(catdict.keys())\n",
    "for c in clist:\n",
    "    if len(catdict[c]) < catsize_min or len(catdict[c]) > catsize_max:\n",
    "        catdict.pop(c)\n",
    "print('Final size: %d categories' % len(list(catdict.keys())))\n",
    "\n",
    "supercat = dict()\n",
    "for d in allinfo['categories']:\n",
    "    catid = d['id']\n",
    "    if catid in catdict:\n",
    "        sc = d['supercategory']\n",
    "        if sc in supercat:\n",
    "            supercat[sc].append(catid)\n",
    "        else:\n",
    "            supercat[sc] = [catid,]\n",
    "print('\\nSupercategory distributions:')\n",
    "for sc in supercat:\n",
    "    print(sc+':', len(supercat[sc]))"
   ]
  },
  {
   "cell_type": "code",
   "execution_count": 7,
   "metadata": {},
   "outputs": [
    {
     "name": "stdout",
     "output_type": "stream",
     "text": [
      "Category splits assigned. \n",
      "Representation set has 908 of 1135 concepts, evaluation has 227.\n"
     ]
    }
   ],
   "source": [
    "# Create category splits\n",
    "\n",
    "if random_assign:\n",
    "    catlist = list(catdict.keys())\n",
    "    shuffle(catlist)\n",
    "    testlen = len(catlist)//5\n",
    "    testcatlist = catlist[:testlen]\n",
    "    traincatlist = catlist[testlen:]\n",
    "else:\n",
    "    traincatlist = load('helpful_files/traincatlist.pth')\n",
    "    testcatlist = load('helpful_files/testcatlist.pth')\n",
    "\n",
    "print('Category splits assigned. \\nRepresentation set has %d of %d concepts, evaluation has %d.' \n",
    "      % (len(traincatlist), len(list(catdict.keys())), len(testcatlist)))"
   ]
  },
  {
   "cell_type": "code",
   "execution_count": 8,
   "metadata": {},
   "outputs": [
    {
     "name": "stdout",
     "output_type": "stream",
     "text": [
      "Categories completed:\n",
      "50\n",
      "100\n",
      "150\n",
      "200\n",
      "250\n",
      "300\n",
      "350\n",
      "400\n",
      "450\n",
      "500\n",
      "550\n",
      "600\n",
      "650\n",
      "700\n",
      "750\n",
      "800\n",
      "850\n",
      "900\n",
      "Representation set complete!\n"
     ]
    }
   ],
   "source": [
    "# Build representation set\n",
    "\n",
    "boxdict_smaller = dict()\n",
    "count = 0\n",
    "catlist = traincatlist\n",
    "print(\"Categories completed:\")\n",
    "for c in catlist:\n",
    "    # For each category:\n",
    "    if not os.path.exists(datapath+'train/'+str(c)):\n",
    "        os.makedirs(datapath+'train/'+str(c))\n",
    "    ims = catdict[c]\n",
    "    for imkey in ims:\n",
    "        # For each image:\n",
    "        path = pather[imkey]\n",
    "        newpath = datapath+'train/'+str(c)+'/'+path[path.rfind('/')+1:-4]+'.bmp'\n",
    "        # Downsize the image to 84x84\n",
    "        with open(path, 'rb') as f:\n",
    "            p = Image.open(f)\n",
    "            w,h = p.size\n",
    "            p = p.convert('RGB')\n",
    "        p = p.resize((84, 84), Image.BILINEAR)\n",
    "        p.save(newpath)\n",
    "        # Downsize the bounding box annotations to 10x10\n",
    "        boxes = annodict[imkey]\n",
    "        boxdict_smaller[newpath] = []\n",
    "        for boxcode in boxes:\n",
    "            box = boxdict[boxcode]\n",
    "            xmin = box[0]\n",
    "            xmax = box[2]+xmin\n",
    "            ymin = box[1]\n",
    "            ymax = box[3]+ymin\n",
    "            boxdict_smaller[newpath].append([xmin*10/w, ymin*10/h, xmax*10/w, ymax*10/h])\n",
    "    count += 1\n",
    "    if count%50 == 0:\n",
    "        print(count)\n",
    "\n",
    "print(\"Representation set complete!\")"
   ]
  },
  {
   "cell_type": "code",
   "execution_count": 9,
   "metadata": {},
   "outputs": [
    {
     "name": "stdout",
     "output_type": "stream",
     "text": [
      "Categories completed:\n",
      "50\n",
      "100\n",
      "150\n",
      "200\n",
      "Evaluation set complete!\n"
     ]
    }
   ],
   "source": [
    "# Build evaluation set\n",
    "\n",
    "count = 0\n",
    "catlist = testcatlist\n",
    "print(\"Categories completed:\")\n",
    "for c in catlist:\n",
    "    # For each category:\n",
    "    if not os.path.exists(datapath+'test/'+str(c)):\n",
    "        os.makedirs(datapath+'test/'+str(c))\n",
    "    ims = catdict[c]\n",
    "    for imkey in ims:\n",
    "        # For each image:\n",
    "        path = pather[imkey]\n",
    "        newpath = datapath+'test/'+str(c)+'/'+path[path.rfind('/')+1:-4]+'.bmp'\n",
    "        # Downsize the image to 84x84\n",
    "        with open(path, 'rb') as f:\n",
    "            p = Image.open(f)\n",
    "            w,h = p.size\n",
    "            p = p.convert('RGB')\n",
    "        p = p.resize((84, 84), Image.BILINEAR)\n",
    "        p.save(newpath)\n",
    "        # Downsize the bounding box annotations to 10x10\n",
    "        boxes = annodict[imkey]\n",
    "        boxdict_smaller[newpath] = []\n",
    "        for boxcode in boxes:\n",
    "            box = boxdict[boxcode]\n",
    "            xmin = box[0]\n",
    "            xmax = box[2]+xmin\n",
    "            ymin = box[1]\n",
    "            ymax = box[3]+ymin\n",
    "            boxdict_smaller[newpath].append([xmin*10/w, ymin*10/h, xmax*10/w, ymax*10/h])\n",
    "    count += 1\n",
    "    if count%50 == 0:\n",
    "        print(count)\n",
    "\n",
    "print(\"Evaluation set complete!\")"
   ]
  },
  {
   "cell_type": "code",
   "execution_count": 10,
   "metadata": {},
   "outputs": [
    {
     "name": "stdout",
     "output_type": "stream",
     "text": [
      "Categories completed:\n",
      "50\n",
      "100\n",
      "150\n",
      "200\n",
      "Reference images compiled!\n"
     ]
    }
   ],
   "source": [
    "# Compile reference images within the evaluation set\n",
    "\n",
    "count = 0\n",
    "catlist = testcatlist\n",
    "print(\"Categories completed:\")\n",
    "for c in catlist:\n",
    "    # For each category:\n",
    "    if not os.path.exists(datapath+'repr/'+str(c)):\n",
    "        os.makedirs(datapath+'repr/'+str(c))\n",
    "    ims = list(catdict[c])\n",
    "    ims = ims[:len(ims)//5]\n",
    "    for imkey in ims:\n",
    "        # For each image:\n",
    "        path = pather[imkey]\n",
    "        oldpath = datapath+'test/'+str(c)+'/'+path[path.rfind('/')+1:-4]+'.bmp'\n",
    "        newpath = datapath+'repr/'+str(c)+'/'+path[path.rfind('/')+1:-4]+'.bmp'\n",
    "        # Create a softlink to the corresponding evaluation set image\n",
    "        os.symlink(oldpath, newpath)\n",
    "        # Copy over the bounding box annodations from the softlinked image\n",
    "        boxdict_smaller[newpath] = boxdict_smaller[oldpath]\n",
    "    count += 1\n",
    "    if count%50 == 0:\n",
    "        print(count)\n",
    "        \n",
    "print(\"Reference images compiled!\")"
   ]
  },
  {
   "cell_type": "code",
   "execution_count": 11,
   "metadata": {},
   "outputs": [
    {
     "name": "stdout",
     "output_type": "stream",
     "text": [
      "Categories completed:\n",
      "50\n",
      "100\n",
      "150\n",
      "200\n",
      "Query images compiled!\n"
     ]
    }
   ],
   "source": [
    "# Compile query images within the evaluation set\n",
    "\n",
    "count = 0\n",
    "catlist = testcatlist\n",
    "print(\"Categories completed:\")\n",
    "for c in catlist:\n",
    "    # For each category:\n",
    "    if not os.path.exists(datapath+'query/'+str(c)):\n",
    "        os.makedirs(datapath+'query/'+str(c))\n",
    "    ims = list(catdict[c])\n",
    "    ims = ims[len(ims)//5:]\n",
    "    for imkey in ims:\n",
    "        # For each image:\n",
    "        path = pather[imkey]\n",
    "        oldpath = datapath+'test/'+str(c)+'/'+path[path.rfind('/')+1:-4]+'.bmp'\n",
    "        newpath = datapath+'query/'+str(c)+'/'+path[path.rfind('/')+1:-4]+'.bmp'\n",
    "        # Create a softlink to the corresponding evaluation set image\n",
    "        os.symlink(oldpath, newpath)\n",
    "        # Copy over the bounding box annodations from the softlinked image\n",
    "        boxdict_smaller[newpath] = boxdict_smaller[oldpath]\n",
    "    count += 1\n",
    "    if count%50 == 0:\n",
    "        print(count)\n",
    "save(boxdict_smaller, 'helpful_files/box_coords.pth')\n",
    "        \n",
    "print(\"Query images compiled!\")"
   ]
  },
  {
   "cell_type": "code",
   "execution_count": 12,
   "metadata": {},
   "outputs": [
    {
     "name": "stdout",
     "output_type": "stream",
     "text": [
      "Your md5 hash is: e11fce3d5ab8929a92ae2dd25a83b2ad\n",
      "\n",
      "Congratulations! Your dataset appears to be a faithful reproduction.\n"
     ]
    }
   ],
   "source": [
    "# Use a recursive md5 checksum to verify that the constructed dataset reproduces the original\n",
    "\n",
    "# NOTE: this code only checks the assignments of photos to categories. \n",
    "# Thus, changing any file or folder names WILL cause the check to fail, even if the images themselves are still correct.\n",
    "\n",
    "import hashlib\n",
    "\n",
    "# Get hashes of relative locations for each photo in the dataset\n",
    "hashlist = []\n",
    "subdirs = ['train/', 'test/', 'repr/', 'query/']\n",
    "for subdir in subdirs:\n",
    "    for cat in os.listdir(datapath+subdir):\n",
    "        hashlist = hashlist + [hashlib.md5((subdir+cat+'/'+file).encode()).hexdigest() \n",
    "                               for file in os.listdir(datapath+subdir+cat)]\n",
    "# Get a hash for the sorted list of hashes\n",
    "hashlist.sort()\n",
    "md5 = hashlib.md5(\"\".join(hashlist).encode()).hexdigest()\n",
    "# Compare\n",
    "print(\"Your md5 hash is:\", md5)\n",
    "print()\n",
    "if not random_assign:\n",
    "    if md5!=\"e11fce3d5ab8929a92ae2dd25a83b2ad\":\n",
    "        print(\"ALERT: Something went wrong. Your dataset does not match the original.\")\n",
    "    else:\n",
    "        print(\"Congratulations! Your dataset appears to be a faithful reproduction.\")"
   ]
  },
  {
   "cell_type": "code",
   "execution_count": null,
   "metadata": {},
   "outputs": [],
   "source": [
    "# Shut down the notebook"
   ]
  },
  {
   "cell_type": "code",
   "execution_count": null,
   "metadata": {},
   "outputs": [
    {
     "data": {
      "application/javascript": [
       "Jupyter.notebook.session.delete();\n"
      ],
      "text/plain": [
       "<IPython.core.display.Javascript object>"
      ]
     },
     "metadata": {},
     "output_type": "display_data"
    }
   ],
   "source": [
    "%%javascript\n",
    "Jupyter.notebook.session.delete();"
   ]
  },
  {
   "cell_type": "code",
   "execution_count": null,
   "metadata": {},
   "outputs": [],
   "source": [
    "#                           CONCLUDES DOWNSCALED VERSION OF META_INAT DATASET"
   ]
  },
  {
   "cell_type": "code",
   "execution_count": null,
   "metadata": {},
   "outputs": [],
   "source": []
  },
  {
   "cell_type": "code",
   "execution_count": null,
   "metadata": {},
   "outputs": [],
   "source": []
  }
 ],
 "metadata": {
  "kernelspec": {
   "display_name": "mypython3",
   "language": "python",
   "name": "mypython3"
  },
  "language_info": {
   "codemirror_mode": {
    "name": "ipython",
    "version": 3
   },
   "file_extension": ".py",
   "mimetype": "text/x-python",
   "name": "python",
   "nbconvert_exporter": "python",
   "pygments_lexer": "ipython3",
   "version": "3.8.3"
  }
 },
 "nbformat": 4,
 "nbformat_minor": 2
}
